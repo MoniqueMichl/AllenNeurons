{
 "cells": [
  {
   "cell_type": "markdown",
   "id": "f72fe479",
   "metadata": {
    "execution": {},
    "id": "kErhFWLMdlMn"
   },
   "source": [
    "# Loading the data"
   ]
  },
  {
   "cell_type": "code",
   "execution_count": 1,
   "id": "726a746e",
   "metadata": {
    "cellView": "form",
    "colab": {
     "base_uri": "https://localhost:8080/"
    },
    "id": "ZVphVsUJdlMo",
    "outputId": "edc88892-7a81-4adc-8b8e-f007e94ee7d7"
   },
   "outputs": [],
   "source": [
    "# @title Install dependencies\n",
    "\n",
    "#!pip install pandas --quiet\n",
    "#!pip install seaborn --quiet\n",
    "#!pip install  pyarrow # may be needed to read data file"
   ]
  },
  {
   "cell_type": "code",
   "execution_count": 71,
   "id": "f5b9eb8a",
   "metadata": {
    "id": "arDpXV4udlMo"
   },
   "outputs": [],
   "source": [
    "# Imports\n",
    "import numpy as np\n",
    "import pandas as pd\n",
    "import matplotlib.pyplot as plt\n",
    "import seaborn as sns\n",
    "sns.set_context('notebook', font_scale=1.5, rc={'lines.markeredgewidth': 2})\n",
    "\n",
    "from sklearn.model_selection import train_test_split, StratifiedKFold\n",
    "from sklearn.preprocessing import StandardScaler\n",
    "from sklearn.linear_model import LogisticRegressionCV\n",
    "from sklearn.pipeline import make_pipeline\n",
    "from sklearn.metrics import confusion_matrix, ConfusionMatrixDisplay\n",
    "# from sklearn.decomposition import PCA             # just if needed\n",
    "# from sklearn.model_selection import GridSearchCV\n",
    "# from sklearn.linear_model import Ridge"
   ]
  },
  {
   "cell_type": "markdown",
   "id": "3cbbdceb",
   "metadata": {
    "execution": {},
    "id": "kGjr9frfdlMp"
   },
   "source": [
    "## For this example, we have pre-computed event triggered responses and saved them to figshare.\n",
    "#### To access the full dataset, see `Allen_neuromatch_example_2.ipynb`, or go to the links at the bottom of this notebook\n",
    "###This cell will download the responses."
   ]
  },
  {
   "cell_type": "code",
   "execution_count": 2,
   "id": "0835815f",
   "metadata": {
    "id": "2ixF9-hmdlMq"
   },
   "outputs": [],
   "source": [
    "# @title Data retrieval\n",
    "import os, requests\n",
    "\n",
    "fname = \"allen_visual_behavior_2p_change_detection_familiar_novel_image_sets.parquet\"\n",
    "url = \"https://ndownloader.figshare.com/files/28470255\"\n",
    "\n",
    "if not os.path.isfile(fname):\n",
    "  try:\n",
    "    r = requests.get(url)\n",
    "  except requests.ConnectionError:\n",
    "    print(\"!!! Failed to download data !!!\")\n",
    "  else:\n",
    "    if r.status_code != requests.codes.ok:\n",
    "      print(\"!!! Failed to download data !!!\")\n",
    "    else:\n",
    "      with open(fname, \"wb\") as fid:\n",
    "        fid.write(r.content)"
   ]
  },
  {
   "cell_type": "markdown",
   "id": "fd693727",
   "metadata": {
    "execution": {},
    "id": "gqgmeSQCdlMq"
   },
   "source": [
    "### Then we open it using the pandas `read_parquet` method\n"
   ]
  },
  {
   "cell_type": "markdown",
   "id": "3d0cb99d",
   "metadata": {
    "execution": {},
    "id": "_ZtUKFBMdlMq"
   },
   "source": [
    "(parquet is just another file format)"
   ]
  },
  {
   "cell_type": "code",
   "execution_count": 3,
   "id": "01050efd",
   "metadata": {
    "id": "fKQ1V7JAdlMq"
   },
   "outputs": [],
   "source": [
    "filename = \"allen_visual_behavior_2p_change_detection_familiar_novel_image_sets.parquet\"\n",
    "data = pd.read_parquet(filename)"
   ]
  },
  {
   "cell_type": "markdown",
   "id": "986d9122",
   "metadata": {},
   "source": [
    "# DATA_ PROCESSING: Start here after loading data"
   ]
  },
  {
   "cell_type": "code",
   "execution_count": 4,
   "id": "2d81b10b",
   "metadata": {},
   "outputs": [],
   "source": [
    "#THIS IS WHERE THE FUN STARTS\n",
    "# Define a function to map combinations to numbers 1-4\n",
    "def map_conditions(row):\n",
    "    if row['exposure_level'] == \"familiar\" and row['is_change'] == True:\n",
    "        return 1\n",
    "    elif row['exposure_level'] == \"familiar\" and row['is_change'] == False:\n",
    "        return 2\n",
    "    elif row['exposure_level'] == \"novel\" and row['is_change'] == True:\n",
    "        return 3\n",
    "    elif row['exposure_level'] == \"novel\" and row['is_change'] == False:\n",
    "        return 4\n",
    "\n",
    "\n",
    "# Apply the function to create the new column\n",
    "#filtered_df['condition'] = filtered_df.apply(map_conditions, axis=1)\n",
    "\n",
    "#print(filtered_df.shape)"
   ]
  },
  {
   "cell_type": "code",
   "execution_count": 5,
   "id": "f2e2a23c",
   "metadata": {},
   "outputs": [],
   "source": [
    "data['condition'] = data.apply(map_conditions, axis=1)"
   ]
  },
  {
   "cell_type": "code",
   "execution_count": 6,
   "id": "cd5f8ce0",
   "metadata": {},
   "outputs": [],
   "source": [
    "outliers = []\n",
    "data_traces = data.trace.values\n",
    "for i in range(len(data_traces)):\n",
    "    outliers.append((data_traces[i]<1).all())\n",
    "\n",
    "data_subset_rmo = data[outliers]"
   ]
  },
  {
   "cell_type": "code",
   "execution_count": 7,
   "id": "6c6a0ee7",
   "metadata": {},
   "outputs": [],
   "source": [
    "def restrict_neurons_with_all_conditions(df):\n",
    "    # Group by neuron and find unique conditions for each neuron\n",
    "    neuron_conditions = df.groupby('cell_specimen_id')['condition'].unique()\n",
    "    # filtering only neurons that have trials in all 4 conditions\n",
    "    neurons_with_all_conditions = neuron_conditions[\n",
    "        neuron_conditions.apply(lambda x: {1, 2, 3, 4}.issubset(x))\n",
    "    ].index\n",
    "    # Filter the data for those neurons\n",
    "    filtered_d = df[df['cell_specimen_id'].isin(neurons_with_all_conditions)]\n",
    "    return filtered_d\n",
    "filtered_data = restrict_neurons_with_all_conditions(data_subset_rmo)"
   ]
  },
  {
   "cell_type": "code",
   "execution_count": 8,
   "id": "8a3652ff",
   "metadata": {},
   "outputs": [
    {
     "name": "stdout",
     "output_type": "stream",
     "text": [
      "Verification result: True\n"
     ]
    }
   ],
   "source": [
    "def verify_filtered_data(df):\n",
    "    condition_counts = df.groupby('cell_specimen_id')['condition'].nunique()\n",
    "    return (condition_counts == 4).all()\n",
    "print(f\"Verification result: {verify_filtered_data(filtered_data)}\")"
   ]
  },
  {
   "cell_type": "code",
   "execution_count": 9,
   "id": "1bd7155c",
   "metadata": {},
   "outputs": [
    {
     "name": "stdout",
     "output_type": "stream",
     "text": [
      "     cell_specimen_id  condition  trial_count\n",
      "0          1086489847          1          204\n",
      "1          1086489847          2          190\n",
      "2          1086489847          3          218\n",
      "3          1086489847          4          217\n",
      "4          1086489860          1          203\n",
      "..                ...        ...          ...\n",
      "383        1086567017          4          184\n",
      "384        1086567589          1          493\n",
      "385        1086567589          2          304\n",
      "386        1086567589          3          303\n",
      "387        1086567589          4          152\n",
      "\n",
      "[388 rows x 3 columns]\n"
     ]
    }
   ],
   "source": [
    "#how many trials of each type per neuron? -> calculate length of each condition for each neuron - creating the trial counts variable\n",
    "# Group by cell_id and 'condition', then count the number of occurrences\n",
    "trial_counts = filtered_data.groupby(['cell_specimen_id', 'condition']).size().reset_index(name='trial_count')\n",
    "\n",
    "print(trial_counts)\n"
   ]
  },
  {
   "cell_type": "code",
   "execution_count": 10,
   "id": "5175acfb",
   "metadata": {},
   "outputs": [
    {
     "name": "stdout",
     "output_type": "stream",
     "text": [
      "   condition  trial_count\n",
      "0          1          122\n",
      "1          2          127\n",
      "2          3           82\n",
      "3          4          101\n"
     ]
    }
   ],
   "source": [
    "# Group by 'condition' and find the minimum 'trial_count' for each condition\n",
    "min_trial_counts = trial_counts.groupby('condition')['trial_count'].min().reset_index()\n",
    "\n",
    "# For each condition, find the neuron_id corresponding to the minimum trial_count\n",
    "#min_trial_neurons = trial_counts.loc[trial_counts.groupby('condition')['trial_count'].idxmin()].reset_index(drop=True)\n",
    "\n",
    "# Merge the two dataframes to get the condition, trial_count, and neuron_id together\n",
    "#result = pd.merge(min_trial_counts, min_trial_neurons, on=['condition', 'trial_count'], suffixes=('', '_min'))\n",
    "\n",
    "# Select only the relevant columns\n",
    "min_trial_counts = min_trial_counts[['condition', 'trial_count']]\n",
    "\n",
    "print(min_trial_counts)"
   ]
  },
  {
   "cell_type": "code",
   "execution_count": 11,
   "id": "a430858d",
   "metadata": {},
   "outputs": [
    {
     "name": "stdout",
     "output_type": "stream",
     "text": [
      "   condition  cell_specimen_id  trial_count\n",
      "0          1        1086498976          122\n",
      "1          2        1086495377          127\n",
      "2          3        1086490603           82\n",
      "3          4        1086498820          101\n"
     ]
    }
   ],
   "source": [
    "#ALTERNATIVE OPTION\n",
    "# Sort the dataframe by 'condition' and 'trial_count' - in case we did not want the minimum but another benchmark\n",
    "sorted_trial_counts = trial_counts.sort_values(by=['condition', 'trial_count'])\n",
    "\n",
    "# Group by 'condition' and take the nth smallest 'trial_count'\n",
    "second_trial_counts = sorted_trial_counts.groupby('condition').nth(0).reset_index()\n",
    "\n",
    "print(second_trial_counts)"
   ]
  },
  {
   "cell_type": "markdown",
   "id": "01508051",
   "metadata": {},
   "source": [
    "Now we need to get all neurons to have the same number of trials per condition. "
   ]
  },
  {
   "cell_type": "code",
   "execution_count": 12,
   "id": "9bac2530",
   "metadata": {},
   "outputs": [
    {
     "data": {
      "text/plain": [
       "condition\n",
       "1    122\n",
       "2    127\n",
       "3     82\n",
       "4    101\n",
       "Name: trial_count, dtype: int64"
      ]
     },
     "execution_count": 12,
     "metadata": {},
     "output_type": "execute_result"
    }
   ],
   "source": [
    "#CALCULATE MIN TRIALS\n",
    "# Calculate the minimum number of trials for each condition\n",
    "min_trials_per_condition = trial_counts.groupby('condition')['trial_count'].min()\n",
    "min_trials_per_condition"
   ]
  },
  {
   "cell_type": "code",
   "execution_count": 13,
   "id": "ed046125",
   "metadata": {},
   "outputs": [
    {
     "name": "stdout",
     "output_type": "stream",
     "text": [
      "{1: 122, 2: 127, 3: 82, 4: 101}\n"
     ]
    }
   ],
   "source": [
    "#MIN_TRIALS DICTIONARY\n",
    "# Convert min_trials_df to a dictionary for quick lookup\n",
    "min_trials_dict = min_trials_per_condition.to_dict()\n",
    "print(min_trials_dict)"
   ]
  },
  {
   "cell_type": "code",
   "execution_count": 14,
   "id": "d5d9399b",
   "metadata": {},
   "outputs": [],
   "source": [
    "# Function to sample trials\n",
    "def sample_trials(group, min_trials_dict, random_seed=42):\n",
    "    condition = group['condition'].iloc[0]  # Extract condition from group\n",
    "    min_trials = min_trials_dict.get(condition, None)  # Get minimum trials for the condition\n",
    "    if min_trials is not None and len(group) > min_trials:\n",
    "        return group.sample(min_trials, random_state=random_seed)\n",
    "    return group\n"
   ]
  },
  {
   "cell_type": "code",
   "execution_count": 15,
   "id": "eeb8dd46",
   "metadata": {},
   "outputs": [],
   "source": [
    "# Group by 'cell_id' and 'condition', then sample trials to match the minimum\n",
    "balanced_df = (\n",
    "    filtered_data.groupby(['cell_specimen_id', 'condition'], group_keys=False)\n",
    "    .apply(lambda x: sample_trials(x, min_trials_dict))\n",
    ")\n",
    "\n",
    "#print(balanced_df)"
   ]
  },
  {
   "cell_type": "code",
   "execution_count": 16,
   "id": "c593e799",
   "metadata": {},
   "outputs": [
    {
     "name": "stdout",
     "output_type": "stream",
     "text": [
      "{1: 122, 2: 127, 3: 82, 4: 101}\n",
      "     cell_specimen_id  condition  trial_count\n",
      "0          1086489847          1          122\n",
      "1          1086489847          2          127\n",
      "2          1086489847          3           82\n",
      "3          1086489847          4          101\n",
      "4          1086489860          1          122\n",
      "..                ...        ...          ...\n",
      "383        1086567017          4          101\n",
      "384        1086567589          1          122\n",
      "385        1086567589          2          127\n",
      "386        1086567589          3           82\n",
      "387        1086567589          4          101\n",
      "\n",
      "[388 rows x 3 columns]\n"
     ]
    }
   ],
   "source": [
    "#CHECKS WHETHER THINGS WORKED\n",
    "#how many trials of each type per neuron? -> calculate length of each condition for each neuron\n",
    "# Group by cell_id and 'condition', then count the number of occurrences\n",
    "print(min_trials_dict)\n",
    "trial_counts2 = balanced_df.groupby(['cell_specimen_id', 'condition']).size().reset_index(name='trial_count')\n",
    "\n",
    "print(trial_counts2)"
   ]
  },
  {
   "cell_type": "code",
   "execution_count": 17,
   "id": "2f4209c1",
   "metadata": {},
   "outputs": [
    {
     "data": {
      "text/plain": [
       "array([[<Axes: title={'center': '1'}>, <Axes: title={'center': '2'}>],\n",
       "       [<Axes: title={'center': '3'}>, <Axes: title={'center': '4'}>]],\n",
       "      dtype=object)"
      ]
     },
     "execution_count": 17,
     "metadata": {},
     "output_type": "execute_result"
    },
    {
     "data": {
      "image/png": "[encoded data removed]",
      "text/plain": [
       "<Figure size 640x480 with 4 Axes>"
      ]
     },
     "metadata": {},
     "output_type": "display_data"
    }
   ],
   "source": [
    "trial_counts2.hist(column='trial_count', by=\"condition\")"
   ]
  },
  {
   "cell_type": "code",
   "execution_count": 18,
   "id": "e7972b3b",
   "metadata": {},
   "outputs": [
    {
     "name": "stdout",
     "output_type": "stream",
     "text": [
      "All neurons have the same number of trials per condition:\n",
      "condition\n",
      "1    True\n",
      "2    True\n",
      "3    True\n",
      "4    True\n",
      "Name: trial_count, dtype: bool\n"
     ]
    }
   ],
   "source": [
    "# Check if all neurons have the minimum number of trials per condition\n",
    "correct_counts = trial_counts2.groupby('condition')['trial_count'].nunique() == 1\n",
    "\n",
    "print(\"All neurons have the same number of trials per condition:\")\n",
    "print(correct_counts)"
   ]
  },
  {
   "cell_type": "markdown",
   "id": "cea88f91",
   "metadata": {},
   "source": [
    "We now need to create a feature matrix X for our decoding analysis. X should be an array containing the trace values of shape (number of neurons, number of trials, number of timepoints)."
   ]
  },
  {
   "cell_type": "code",
   "execution_count": 37,
   "id": "059f59a4-4c0e-4392-a9f4-984ef2ae83c7",
   "metadata": {},
   "outputs": [],
   "source": [
    "# we first determine our dimensions and initiate an empty numpy array of that size\n",
    "N = len(balanced_df.cell_specimen_id.unique()) # the number of individual neurons left after subsetting above, here 97\n",
    "S = sum(min_trial_counts.trial_count) # the *total* number of trials across conditions, here 432\n",
    "T = len(balanced_df.trace.values[0]) # the number of timepoints within each trial, here 85\n",
    "X = np.zeros((S,N,T))"
   ]
  },
  {
   "cell_type": "code",
   "execution_count": 38,
   "id": "2152942a",
   "metadata": {},
   "outputs": [],
   "source": [
    "# we then loop over the three dimensions and extract the values from the dataframe for each\n",
    "for n, cell_id in enumerate(balanced_df.cell_specimen_id.unique()):\n",
    "    neuron_data = balanced_df[balanced_df.cell_specimen_id==cell_id] # get each single neuron's data by indexing the column cell_specimen_id\n",
    "    for s in range(S):\n",
    "        # y[s] = neuron_data.condition.values[s]\n",
    "        for t in range(T):\n",
    "            X[s,n,t] = neuron_data.trace.values[s][t] # each trial is a row in the dataframe, and the column trace contains an array of trace values over time "
   ]
  },
  {
   "cell_type": "markdown",
   "id": "51b65c75",
   "metadata": {},
   "source": [
    "We also need the labels y for our model. These are now stored in the new column called condition, and since we have matched the trials across neurons, we can simply use a single neuron's label values:"
   ]
  },
  {
   "cell_type": "code",
   "execution_count": 39,
   "id": "06d44bce",
   "metadata": {},
   "outputs": [
    {
     "data": {
      "text/plain": [
       "(432, 97, 85)"
      ]
     },
     "metadata": {},
     "output_type": "display_data"
    },
    {
     "data": {
      "text/plain": [
       "(432,)"
      ]
     },
     "metadata": {},
     "output_type": "display_data"
    }
   ],
   "source": [
    "y = neuron_data.condition.values\n",
    "\n",
    "display(X.shape,y.shape)"
   ]
  },
  {
   "cell_type": "code",
   "execution_count": 66,
   "id": "1dd003cf-67fd-4e9b-be41-8b0ac26d4588",
   "metadata": {},
   "outputs": [],
   "source": [
    "### Logistic Regression Models ###\n",
    "\n",
    "# Create a pipeline for Logistic Regression \n",
    "Cs = [0.000001, 0.00001, 0.0001, 0.001, 0.01, 0.1, 1, 10, 100]\n",
    "pipe_logistic = make_pipeline(\n",
    "    StandardScaler(), # 'pca', PCA(n_components = 0.9) # just if needed to reduce noise or improve the prediction(s)\n",
    "    LogisticRegressionCV(random_state = 0, cv = 10, penalty='l2', Cs=Cs, max_iter=1000, n_jobs=-1) # 10 fold cross validation\n",
    "   )"
   ]
  },
  {
   "cell_type": "markdown",
   "id": "717011a5",
   "metadata": {},
   "source": [
    "Steps:\n",
    "\n",
    "* Loop over k fold stratified cross-validation:\n",
    "* For each of the k loops, loop over timepoints:\n",
    "* For each timepoint, split X and y into training and test set using indices for that fold\n",
    "* Fit pipeline to training data\n",
    "* Predict on test data\n",
    "* Save all predicted y labels from each fold\n",
    "* Output should be T vectors `y_predicted` of the same size of `y` (length 432, one label for each trial) containing the predicted labels for each timepoint"
   ]
  },
  {
   "cell_type": "markdown",
   "id": "f7b2c6e3",
   "metadata": {},
   "source": [
    "Note that this will take some time to run. If you do not want to use several cores, set n_jobs in cell above to 1."
   ]
  },
  {
   "cell_type": "code",
   "execution_count": 80,
   "id": "66bc283f",
   "metadata": {},
   "outputs": [],
   "source": [
    "n_folds = 10 # number of folds for k-fold CV\n",
    "folds = StratifiedKFold(n_splits=n_folds, shuffle=True, random_state=123) # initialise folds generator\n",
    "y_pred = np.zeros((T, y.shape[0])) # initialise empty array to hold the predicted labels at each timepoint\n",
    "scores = np.zeros((n_folds, T)) # optional: create array to hold scores for each fold\n",
    "\n",
    "for i, (train_ind, test_ind) in enumerate(folds.split(X[:,:,0], y)): # loop over k folds using the training and test indices from StratifiedKFold\n",
    "    for t in range(T): # loop over timepoints\n",
    "        X_train = X[train_ind,:,t] # split into training and test set\n",
    "        y_train = y[train_ind]\n",
    "        X_test = X[test_ind,:,t]\n",
    "        y_test = y[test_ind]\n",
    "        pipe_logistic.fit(X_train, y_train) # fit pipeline to training set\n",
    "        y_pred[t, test_ind] = pipe_logistic.predict(X_test) # predict in test set\n",
    "        # if you are interested in performance at each fold, save the scores from each of the folds:\n",
    "        scores[i,t] = pipe_logistic.score(X_test, y_test)"
   ]
  },
  {
   "cell_type": "markdown",
   "id": "0a55c5b8",
   "metadata": {},
   "source": [
    "We can then use the predicted labels to compute the accuracy and confusion matrix at each timepoint:"
   ]
  },
  {
   "cell_type": "code",
   "execution_count": 72,
   "id": "e651603d",
   "metadata": {},
   "outputs": [],
   "source": [
    "# initialise empty arrays to hold output\n",
    "acc = np.zeros(T)\n",
    "conf_mat = np.zeros((4,4,T))\n",
    "for t in range(T):\n",
    "    acc[t] = sum(y_pred[t,:]==y)/len(y) # accuracies are the sum of correctly predicted labels divided by the number of trials\n",
    "    conf_mat[:,:,t] = confusion_matrix(y,y_pred[t]) # one confusion matrix per timepoint"
   ]
  },
  {
   "cell_type": "markdown",
   "id": "305b9293",
   "metadata": {},
   "source": [
    "Check the maximum accuracy to see the timepoint at which the decoder predicts best (to see if it picked up anything meaningful at all)"
   ]
  },
  {
   "cell_type": "code",
   "execution_count": 93,
   "id": "b11e4867",
   "metadata": {},
   "outputs": [
    {
     "data": {
      "text/plain": [
       "0.8541666666666666"
      ]
     },
     "execution_count": 93,
     "metadata": {},
     "output_type": "execute_result"
    }
   ],
   "source": [
    "max(acc)"
   ]
  },
  {
   "cell_type": "markdown",
   "id": "e74fb964",
   "metadata": {},
   "source": [
    "Finally, generate some plots to investigate prediction accuracies. First calculate the chance level (not sure if this is correct, but I think it's not 0.25 since we have different proportions of each stimulus category?)"
   ]
  },
  {
   "cell_type": "code",
   "execution_count": 89,
   "id": "58c6d72f",
   "metadata": {},
   "outputs": [],
   "source": [
    "chance=np.max(min_trial_counts.trial_count.values/S)"
   ]
  },
  {
   "cell_type": "code",
   "execution_count": 92,
   "id": "1db323dd",
   "metadata": {},
   "outputs": [
    {
     "data": {
      "image/png": "[encoded data removed]",
      "text/plain": [
       "<Figure size 640x480 with 1 Axes>"
      ]
     },
     "metadata": {},
     "output_type": "display_data"
    }
   ],
   "source": [
    "plt.subplot()\n",
    "plt.plot(range(T), acc)\n",
    "plt.xlabel('Time after stimulus onset')\n",
    "plt.ylabel('Accuracy')\n",
    "plt.hlines(y=chance, xmin=0, xmax=T, label='Chance', linestyles='dashed', colors='black')\n",
    "plt.legend()\n",
    "plt.ylim((0,1))\n",
    "plt.title(\"Decoding accuracy over time\")\n",
    "plt.show()"
   ]
  }
 ],
 "metadata": {
  "kernelspec": {
   "display_name": "Python 3 (ipykernel)",
   "language": "python",
   "name": "python3"
  },
  "language_info": {
   "codemirror_mode": {
    "name": "ipython",
    "version": 3
   },
   "file_extension": ".py",
   "mimetype": "text/x-python",
   "name": "python",
   "nbconvert_exporter": "python",
   "pygments_lexer": "ipython3",
   "version": "3.8.19"
  }
 },
 "nbformat": 4,
 "nbformat_minor": 5
}
