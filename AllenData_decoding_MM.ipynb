{
 "cells": [
  {
   "cell_type": "markdown",
   "id": "f72fe479",
   "metadata": {
    "execution": {},
    "id": "kErhFWLMdlMn"
   },
   "source": [
    "# Loading the data"
   ]
  },
  {
   "cell_type": "code",
   "execution_count": 1,
   "id": "726a746e",
   "metadata": {
    "cellView": "form",
    "colab": {
     "base_uri": "https://localhost:8080/"
    },
    "id": "ZVphVsUJdlMo",
    "outputId": "edc88892-7a81-4adc-8b8e-f007e94ee7d7"
   },
   "outputs": [],
   "source": [
    "# @title Install dependencies\n",
    "\n",
    "#!pip install pandas --quiet\n",
    "#!pip install seaborn --quiet\n",
    "#!pip install  pyarrow # may be needed to read data file"
   ]
  },
  {
   "cell_type": "code",
   "execution_count": 2,
   "id": "f5b9eb8a",
   "metadata": {
    "id": "arDpXV4udlMo"
   },
   "outputs": [],
   "source": [
    "# Imports\n",
    "import numpy as np\n",
    "import pandas as pd\n",
    "import matplotlib.pyplot as plt\n",
    "import seaborn as sns\n",
    "sns.set_context('notebook', font_scale=1.5, rc={'lines.markeredgewidth': 2})\n",
    "\n",
    "from sklearn.model_selection import train_test_split\n",
    "from sklearn.preprocessing import StandardScaler\n",
    "from sklearn.linear_model import LogisticRegressionCV\n",
    "from sklearn.pipeline import Pipeline\n",
    "from sklearn.metrics import accuracy_score, confusion_matrix\n",
    "\n",
    "# from sklearn.decomposition import PCA             # just if needed\n",
    "# from sklearn.model_selection import GridSearchCV\n",
    "# from sklearn.linear_model import Ridge"
   ]
  },
  {
   "cell_type": "markdown",
   "id": "3cbbdceb",
   "metadata": {
    "execution": {},
    "id": "kGjr9frfdlMp"
   },
   "source": [
    "## For this example, we have pre-computed event triggered responses and saved them to figshare.\n",
    "#### To access the full dataset, see `Allen_neuromatch_example_2.ipynb`, or go to the links at the bottom of this notebook\n",
    "###This cell will download the responses."
   ]
  },
  {
   "cell_type": "code",
   "execution_count": 3,
   "id": "0835815f",
   "metadata": {
    "id": "2ixF9-hmdlMq"
   },
   "outputs": [],
   "source": [
    "# @title Data retrieval\n",
    "import os, requests\n",
    "\n",
    "fname = \"allen_visual_behavior_2p_change_detection_familiar_novel_image_sets.parquet\"\n",
    "url = \"https://ndownloader.figshare.com/files/28470255\"\n",
    "\n",
    "if not os.path.isfile(fname):\n",
    "  try:\n",
    "    r = requests.get(url)\n",
    "  except requests.ConnectionError:\n",
    "    print(\"!!! Failed to download data !!!\")\n",
    "  else:\n",
    "    if r.status_code != requests.codes.ok:\n",
    "      print(\"!!! Failed to download data !!!\")\n",
    "    else:\n",
    "      with open(fname, \"wb\") as fid:\n",
    "        fid.write(r.content)"
   ]
  },
  {
   "cell_type": "markdown",
   "id": "fd693727",
   "metadata": {
    "execution": {},
    "id": "gqgmeSQCdlMq"
   },
   "source": [
    "### Then we open it using the pandas `read_parquet` method\n"
   ]
  },
  {
   "cell_type": "markdown",
   "id": "3d0cb99d",
   "metadata": {
    "execution": {},
    "id": "_ZtUKFBMdlMq"
   },
   "source": [
    "(parquet is just another file format)"
   ]
  },
  {
   "cell_type": "code",
   "execution_count": 4,
   "id": "01050efd",
   "metadata": {
    "id": "fKQ1V7JAdlMq"
   },
   "outputs": [],
   "source": [
    "filename = \"allen_visual_behavior_2p_change_detection_familiar_novel_image_sets.parquet\"\n",
    "data = pd.read_parquet(filename)"
   ]
  },
  {
   "cell_type": "markdown",
   "id": "986d9122",
   "metadata": {},
   "source": [
    "# DATA_ PROCESSING: Start here after loading data"
   ]
  },
  {
   "cell_type": "code",
   "execution_count": 5,
   "id": "2d81b10b",
   "metadata": {},
   "outputs": [],
   "source": [
    "#THIS IS WHERE THE FUN STARTS\n",
    "# Define a function to map combinations to numbers 1-4\n",
    "def map_conditions(row):\n",
    "    if row['exposure_level'] == \"familiar\" and row['is_change'] == True:\n",
    "        return 1\n",
    "    elif row['exposure_level'] == \"familiar\" and row['is_change'] == False:\n",
    "        return 2\n",
    "    elif row['exposure_level'] == \"novel\" and row['is_change'] == True:\n",
    "        return 3\n",
    "    elif row['exposure_level'] == \"novel\" and row['is_change'] == False:\n",
    "        return 4\n",
    "\n",
    "\n",
    "# Apply the function to create the new column\n",
    "#filtered_df['condition'] = filtered_df.apply(map_conditions, axis=1)\n",
    "\n",
    "#print(filtered_df.shape)"
   ]
  },
  {
   "cell_type": "code",
   "execution_count": 6,
   "id": "f2e2a23c",
   "metadata": {},
   "outputs": [],
   "source": [
    "data['condition'] = data.apply(map_conditions, axis=1)"
   ]
  },
  {
   "cell_type": "code",
   "execution_count": 7,
   "id": "cd5f8ce0",
   "metadata": {},
   "outputs": [],
   "source": [
    "outliers = []\n",
    "data_traces = data.trace.values\n",
    "for i in range(len(data_traces)):\n",
    "    outliers.append((data_traces[i]<1).all())\n",
    "\n",
    "data_subset_rmo = data[outliers]"
   ]
  },
  {
   "cell_type": "code",
   "execution_count": 8,
   "id": "6c6a0ee7",
   "metadata": {},
   "outputs": [],
   "source": [
    "def restrict_neurons_with_all_conditions(df):\n",
    "    # Group by neuron and find unique conditions for each neuron\n",
    "    neuron_conditions = df.groupby('cell_specimen_id')['condition'].unique()\n",
    "    # filtering only neurons that have trials in all 4 conditions\n",
    "    neurons_with_all_conditions = neuron_conditions[\n",
    "        neuron_conditions.apply(lambda x: {1, 2, 3, 4}.issubset(x))\n",
    "    ].index\n",
    "    # Filter the data for those neurons\n",
    "    filtered_d = df[df['cell_specimen_id'].isin(neurons_with_all_conditions)]\n",
    "    return filtered_d\n",
    "filtered_data = restrict_neurons_with_all_conditions(data_subset_rmo)"
   ]
  },
  {
   "cell_type": "code",
   "execution_count": 9,
   "id": "8a3652ff",
   "metadata": {},
   "outputs": [
    {
     "name": "stdout",
     "output_type": "stream",
     "text": [
      "Verification result: True\n"
     ]
    }
   ],
   "source": [
    "def verify_filtered_data(df):\n",
    "    condition_counts = df.groupby('cell_specimen_id')['condition'].nunique()\n",
    "    return (condition_counts == 4).all()\n",
    "print(f\"Verification result: {verify_filtered_data(filtered_data)}\")"
   ]
  },
  {
   "cell_type": "code",
   "execution_count": 10,
   "id": "1bd7155c",
   "metadata": {},
   "outputs": [
    {
     "name": "stdout",
     "output_type": "stream",
     "text": [
      "     cell_specimen_id  condition  trial_count\n",
      "0          1086489847          1          204\n",
      "1          1086489847          2          190\n",
      "2          1086489847          3          218\n",
      "3          1086489847          4          217\n",
      "4          1086489860          1          203\n",
      "..                ...        ...          ...\n",
      "383        1086567017          4          184\n",
      "384        1086567589          1          493\n",
      "385        1086567589          2          304\n",
      "386        1086567589          3          303\n",
      "387        1086567589          4          152\n",
      "\n",
      "[388 rows x 3 columns]\n"
     ]
    }
   ],
   "source": [
    "#how many trials of each type per neuron? -> calculate length of each condition for each neuron - creating the trial counts variable\n",
    "# Group by cell_id and 'condition', then count the number of occurrences\n",
    "trial_counts = filtered_data.groupby(['cell_specimen_id', 'condition']).size().reset_index(name='trial_count')\n",
    "\n",
    "print(trial_counts)\n"
   ]
  },
  {
   "cell_type": "code",
   "execution_count": 11,
   "id": "5175acfb",
   "metadata": {},
   "outputs": [
    {
     "name": "stdout",
     "output_type": "stream",
     "text": [
      "   condition  trial_count\n",
      "0          1          122\n",
      "1          2          127\n",
      "2          3           82\n",
      "3          4          101\n"
     ]
    }
   ],
   "source": [
    "# Group by 'condition' and find the minimum 'trial_count' for each condition\n",
    "min_trial_counts = trial_counts.groupby('condition')['trial_count'].min().reset_index()\n",
    "\n",
    "# For each condition, find the neuron_id corresponding to the minimum trial_count\n",
    "#min_trial_neurons = trial_counts.loc[trial_counts.groupby('condition')['trial_count'].idxmin()].reset_index(drop=True)\n",
    "\n",
    "# Merge the two dataframes to get the condition, trial_count, and neuron_id together\n",
    "#result = pd.merge(min_trial_counts, min_trial_neurons, on=['condition', 'trial_count'], suffixes=('', '_min'))\n",
    "\n",
    "# Select only the relevant columns\n",
    "min_trial_counts = min_trial_counts[['condition', 'trial_count']]\n",
    "\n",
    "print(min_trial_counts)"
   ]
  },
  {
   "cell_type": "code",
   "execution_count": 12,
   "id": "a430858d",
   "metadata": {},
   "outputs": [
    {
     "name": "stdout",
     "output_type": "stream",
     "text": [
      "   condition  cell_specimen_id  trial_count\n",
      "0          1        1086498976          122\n",
      "1          2        1086495377          127\n",
      "2          3        1086490603           82\n",
      "3          4        1086498820          101\n"
     ]
    }
   ],
   "source": [
    "#ALTERNATIVE OPTION\n",
    "# Sort the dataframe by 'condition' and 'trial_count' - in case we did not want the minimum but another benchmark\n",
    "sorted_trial_counts = trial_counts.sort_values(by=['condition', 'trial_count'])\n",
    "\n",
    "# Group by 'condition' and take the nth smallest 'trial_count'\n",
    "second_trial_counts = sorted_trial_counts.groupby('condition').nth(0).reset_index()\n",
    "\n",
    "print(second_trial_counts)"
   ]
  },
  {
   "cell_type": "markdown",
   "id": "01508051",
   "metadata": {},
   "source": [
    "Now we need to get all neurons to have the same number of trials per condition. "
   ]
  },
  {
   "cell_type": "code",
   "execution_count": 13,
   "id": "9bac2530",
   "metadata": {},
   "outputs": [
    {
     "data": {
      "text/plain": [
       "condition\n",
       "1    122\n",
       "2    127\n",
       "3     82\n",
       "4    101\n",
       "Name: trial_count, dtype: int64"
      ]
     },
     "execution_count": 13,
     "metadata": {},
     "output_type": "execute_result"
    }
   ],
   "source": [
    "#CALCULATE MIN TRIALS\n",
    "# Calculate the minimum number of trials for each condition\n",
    "min_trials_per_condition = trial_counts.groupby('condition')['trial_count'].min()\n",
    "min_trials_per_condition"
   ]
  },
  {
   "cell_type": "code",
   "execution_count": 14,
   "id": "ed046125",
   "metadata": {},
   "outputs": [
    {
     "name": "stdout",
     "output_type": "stream",
     "text": [
      "{1: 122, 2: 127, 3: 82, 4: 101}\n"
     ]
    }
   ],
   "source": [
    "#MIN_TRIALS DICTIONARY\n",
    "# Convert min_trials_df to a dictionary for quick lookup\n",
    "min_trials_dict = min_trials_per_condition.to_dict()\n",
    "print(min_trials_dict)"
   ]
  },
  {
   "cell_type": "code",
   "execution_count": 15,
   "id": "d5d9399b",
   "metadata": {},
   "outputs": [],
   "source": [
    "# Function to sample trials\n",
    "def sample_trials(group, min_trials_dict, random_seed=42):\n",
    "    condition = group['condition'].iloc[0]  # Extract condition from group\n",
    "    min_trials = min_trials_dict.get(condition, None)  # Get minimum trials for the condition\n",
    "    if min_trials is not None and len(group) > min_trials:\n",
    "        return group.sample(min_trials, random_state=random_seed)\n",
    "    return group\n"
   ]
  },
  {
   "cell_type": "code",
   "execution_count": 16,
   "id": "eeb8dd46",
   "metadata": {},
   "outputs": [],
   "source": [
    "# Group by 'cell_id' and 'condition', then sample trials to match the minimum\n",
    "balanced_df = (\n",
    "    filtered_data.groupby(['cell_specimen_id', 'condition'], group_keys=False)\n",
    "    .apply(lambda x: sample_trials(x, min_trials_dict))\n",
    ")\n",
    "\n",
    "#print(balanced_df)"
   ]
  },
  {
   "cell_type": "code",
   "execution_count": 17,
   "id": "c593e799",
   "metadata": {},
   "outputs": [
    {
     "name": "stdout",
     "output_type": "stream",
     "text": [
      "{1: 122, 2: 127, 3: 82, 4: 101}\n",
      "     cell_specimen_id  condition  trial_count\n",
      "0          1086489847          1          122\n",
      "1          1086489847          2          127\n",
      "2          1086489847          3           82\n",
      "3          1086489847          4          101\n",
      "4          1086489860          1          122\n",
      "..                ...        ...          ...\n",
      "383        1086567017          4          101\n",
      "384        1086567589          1          122\n",
      "385        1086567589          2          127\n",
      "386        1086567589          3           82\n",
      "387        1086567589          4          101\n",
      "\n",
      "[388 rows x 3 columns]\n"
     ]
    }
   ],
   "source": [
    "#CHECKS WHETHER THINGS WORKED\n",
    "#how many trials of each type per neuron? -> calculate length of each condition for each neuron\n",
    "# Group by cell_id and 'condition', then count the number of occurrences\n",
    "print(min_trials_dict)\n",
    "trial_counts2 = balanced_df.groupby(['cell_specimen_id', 'condition']).size().reset_index(name='trial_count')\n",
    "\n",
    "print(trial_counts2)"
   ]
  },
  {
   "cell_type": "code",
   "execution_count": 18,
   "id": "2f4209c1",
   "metadata": {},
   "outputs": [
    {
     "data": {
      "text/plain": [
       "array([[<Axes: title={'center': '1'}>, <Axes: title={'center': '2'}>],\n",
       "       [<Axes: title={'center': '3'}>, <Axes: title={'center': '4'}>]],\n",
       "      dtype=object)"
      ]
     },
     "execution_count": 18,
     "metadata": {},
     "output_type": "execute_result"
    },
    {
     "data": {
      "image/png": "[encoded data removed]",
      "text/plain": [
       "<Figure size 640x480 with 4 Axes>"
      ]
     },
     "metadata": {},
     "output_type": "display_data"
    }
   ],
   "source": [
    "trial_counts2.hist(column='trial_count', by=\"condition\")"
   ]
  },
  {
   "cell_type": "code",
   "execution_count": 19,
   "id": "e7972b3b",
   "metadata": {},
   "outputs": [
    {
     "name": "stdout",
     "output_type": "stream",
     "text": [
      "All neurons have the same number of trials per condition:\n",
      "condition\n",
      "1    True\n",
      "2    True\n",
      "3    True\n",
      "4    True\n",
      "Name: trial_count, dtype: bool\n"
     ]
    }
   ],
   "source": [
    "# Check if all neurons have the minimum number of trials per condition\n",
    "correct_counts = trial_counts2.groupby('condition')['trial_count'].nunique() == 1\n",
    "\n",
    "print(\"All neurons have the same number of trials per condition:\")\n",
    "print(correct_counts)"
   ]
  },
  {
   "cell_type": "markdown",
   "id": "cea88f91",
   "metadata": {},
   "source": [
    "## Creating feature matrix X and target array y"
   ]
  },
  {
   "cell_type": "markdown",
   "id": "8580f219-b7bb-4991-86d0-5c7cb2e971c4",
   "metadata": {},
   "source": [
    "### Get columns of interest \n",
    "(incl. neuron_types for follow-up question, i.e., model for VIP to predict SST)"
   ]
  },
  {
   "cell_type": "code",
   "execution_count": 20,
   "id": "90d27f58-a0ce-4db6-8032-8d97de1be776",
   "metadata": {},
   "outputs": [
    {
     "data": {
      "text/html": [
       "<div>\n",
       "<style scoped>\n",
       "    .dataframe tbody tr th:only-of-type {\n",
       "        vertical-align: middle;\n",
       "    }\n",
       "\n",
       "    .dataframe tbody tr th {\n",
       "        vertical-align: top;\n",
       "    }\n",
       "\n",
       "    .dataframe thead th {\n",
       "        text-align: right;\n",
       "    }\n",
       "</style>\n",
       "<table border=\"1\" class=\"dataframe\">\n",
       "  <thead>\n",
       "    <tr style=\"text-align: right;\">\n",
       "      <th></th>\n",
       "      <th>cell_specimen_id</th>\n",
       "      <th>neuron_type</th>\n",
       "      <th>condition</th>\n",
       "      <th>trace</th>\n",
       "      <th>trace_timestamps</th>\n",
       "    </tr>\n",
       "  </thead>\n",
       "  <tbody>\n",
       "    <tr>\n",
       "      <th>1174414</th>\n",
       "      <td>1086561466</td>\n",
       "      <td>VIP</td>\n",
       "      <td>2</td>\n",
       "      <td>[-0.08431426435709, 0.15257048606872559, 0.099...</td>\n",
       "      <td>[-1.2281906028244671, -1.1958697974869812, -1....</td>\n",
       "    </tr>\n",
       "    <tr>\n",
       "      <th>121157</th>\n",
       "      <td>1086497550</td>\n",
       "      <td>SST</td>\n",
       "      <td>1</td>\n",
       "      <td>[0.04333176836371422, 0.09298921376466751, 0.0...</td>\n",
       "      <td>[-1.2281638329897349, -1.195843732121584, -1.1...</td>\n",
       "    </tr>\n",
       "    <tr>\n",
       "      <th>1017862</th>\n",
       "      <td>1086489891</td>\n",
       "      <td>VIP</td>\n",
       "      <td>4</td>\n",
       "      <td>[-0.011415318585932255, 0.05542634055018425, -...</td>\n",
       "      <td>[-1.227986488876192, -1.1956710549583975, -1.1...</td>\n",
       "    </tr>\n",
       "    <tr>\n",
       "      <th>1573041</th>\n",
       "      <td>1086490751</td>\n",
       "      <td>SST</td>\n",
       "      <td>4</td>\n",
       "      <td>[0.00286138360388577, -0.007981499657034874, 0...</td>\n",
       "      <td>[-1.228044985469164, -1.1957280121673437, -1.1...</td>\n",
       "    </tr>\n",
       "    <tr>\n",
       "      <th>512783</th>\n",
       "      <td>1086501601</td>\n",
       "      <td>VIP</td>\n",
       "      <td>1</td>\n",
       "      <td>[-0.04788321256637573, -0.042395904660224915, ...</td>\n",
       "      <td>[-1.2279363490103425, -1.1956222345627021, -1....</td>\n",
       "    </tr>\n",
       "  </tbody>\n",
       "</table>\n",
       "</div>"
      ],
      "text/plain": [
       "         cell_specimen_id neuron_type  condition  \\\n",
       "1174414        1086561466         VIP          2   \n",
       "121157         1086497550         SST          1   \n",
       "1017862        1086489891         VIP          4   \n",
       "1573041        1086490751         SST          4   \n",
       "512783         1086501601         VIP          1   \n",
       "\n",
       "                                                     trace  \\\n",
       "1174414  [-0.08431426435709, 0.15257048606872559, 0.099...   \n",
       "121157   [0.04333176836371422, 0.09298921376466751, 0.0...   \n",
       "1017862  [-0.011415318585932255, 0.05542634055018425, -...   \n",
       "1573041  [0.00286138360388577, -0.007981499657034874, 0...   \n",
       "512783   [-0.04788321256637573, -0.042395904660224915, ...   \n",
       "\n",
       "                                          trace_timestamps  \n",
       "1174414  [-1.2281906028244671, -1.1958697974869812, -1....  \n",
       "121157   [-1.2281638329897349, -1.195843732121584, -1.1...  \n",
       "1017862  [-1.227986488876192, -1.1956710549583975, -1.1...  \n",
       "1573041  [-1.228044985469164, -1.1957280121673437, -1.1...  \n",
       "512783   [-1.2279363490103425, -1.1956222345627021, -1....  "
      ]
     },
     "execution_count": 20,
     "metadata": {},
     "output_type": "execute_result"
    }
   ],
   "source": [
    "#### Get needed features to reshape matrix (next cell) ###\n",
    "df_features = balanced_df.copy()\n",
    "\n",
    "# Label encoding SST & VIP (also for figures later)\n",
    "df_features['neuron_type'] = df_features.loc[:,'cre_line'].replace({'Sst-IRES-Cre':'SST', 'Vip-IRES-Cre':'VIP'})\n",
    "df_features = df_features.loc[:,['cell_specimen_id', 'neuron_type','condition','trace', 'trace_timestamps']]\n",
    "\n",
    "df_features.sample(5)"
   ]
  },
  {
   "cell_type": "markdown",
   "id": "7d16e20c-bbfb-4a89-9729-0ca7e97b10bd",
   "metadata": {},
   "source": [
    "### Time stamps in s (for figures)"
   ]
  },
  {
   "cell_type": "code",
   "execution_count": 22,
   "id": "67d663cc-f477-4e2d-8dd0-67a276c9f8df",
   "metadata": {},
   "outputs": [
    {
     "data": {
      "text/plain": [
       "array([0.  , 0.03, 0.06, 0.1 , 0.13, 0.16, 0.19, 0.23, 0.26, 0.29, 0.32,\n",
       "       0.36, 0.39, 0.42, 0.45, 0.48, 0.52, 0.55, 0.58, 0.61, 0.65, 0.68,\n",
       "       0.71, 0.74, 0.78, 0.81, 0.84, 0.87, 0.9 , 0.94, 0.97, 1.  , 1.03,\n",
       "       1.07, 1.1 , 1.13, 1.16, 1.2 , 1.23, 1.26, 1.29, 1.32, 1.36, 1.39,\n",
       "       1.42, 1.45, 1.49, 1.52, 1.55, 1.58, 1.62, 1.65, 1.68, 1.71, 1.75,\n",
       "       1.78, 1.81, 1.84, 1.87, 1.91, 1.94, 1.97, 2.  , 2.04, 2.07, 2.1 ,\n",
       "       2.13, 2.17, 2.2 , 2.23, 2.26, 2.29, 2.33, 2.36, 2.39, 2.42, 2.46,\n",
       "       2.49, 2.52, 2.55, 2.59, 2.62, 2.65, 2.68, 2.71])"
      ]
     },
     "execution_count": 22,
     "metadata": {},
     "output_type": "execute_result"
    }
   ],
   "source": [
    "# Store timestamps in seconds - for figures\n",
    "timestamps = df_features.loc[:,'trace_timestamps'].iloc[0]\n",
    "timestamps = (timestamps - timestamps[0]).round(2) # in s\n",
    "timestamps"
   ]
  },
  {
   "cell_type": "markdown",
   "id": "7399532f-a2f9-4af7-9323-b353a1f0587e",
   "metadata": {},
   "source": [
    "### Reshape feature matrix - one row per timepoint"
   ]
  },
  {
   "cell_type": "code",
   "execution_count": null,
   "id": "109883ed-3e73-44ab-bdab-cd0bacfcf925",
   "metadata": {},
   "outputs": [],
   "source": [
    "### Reshape feature matrix (takes several minutes!) ###\n",
    "# ... for this purpose, first, create a feature list (i.e., a list of rows)\n",
    "feature_list = []\n",
    "count_t = 0\n",
    "for idx, neuron_id in enumerate(df_features.cell_specimen_id.unique()): \n",
    "    \n",
    "    # Initialize neuron data frame\n",
    "    df_neuron = df_features[df_features.cell_specimen_id == neuron_id].copy()\n",
    "    print('neuron', idx+1,'/ 97') # just to see that it's running\n",
    "    \n",
    "    # Select trace (or trial)\n",
    "    for trace_id in range(1,sum(min_trial_counts.trial_count)+1): # 1 to 432 trials\n",
    "        \n",
    "        # Get condition (1,2,3,4) \n",
    "        tmp_conditions = df_neuron.loc[:,'condition']\n",
    "        \n",
    "        # Built reshaped feature matrix \n",
    "        for t in range(0,len(df_features.trace.values[0]) ): # 85 time points \n",
    "            feature_list.append([\n",
    "                df_neuron.loc[:,'neuron_type'].iloc[0],       # neuron type (VTT or SST) \n",
    "                neuron_id,                                    # specific neuron id             \n",
    "                tmp_conditions.iloc[trace_id-1],              # novelty condition\n",
    "                trace_id,                                     # trace id (between 1 and 432 for each neuron)\n",
    "                df_neuron.loc[:,'trace'].iloc[trace_id-1][t], # trace at this time point\n",
    "                t])                                           # time point within the current trace  \n"
   ]
  },
  {
   "cell_type": "code",
   "execution_count": 24,
   "id": "15cabac3-df9a-479d-a5a2-4b0fd6bf6d99",
   "metadata": {},
   "outputs": [
    {
     "data": {
      "text/html": [
       "<div>\n",
       "<style scoped>\n",
       "    .dataframe tbody tr th:only-of-type {\n",
       "        vertical-align: middle;\n",
       "    }\n",
       "\n",
       "    .dataframe tbody tr th {\n",
       "        vertical-align: top;\n",
       "    }\n",
       "\n",
       "    .dataframe thead th {\n",
       "        text-align: right;\n",
       "    }\n",
       "</style>\n",
       "<table border=\"1\" class=\"dataframe\">\n",
       "  <thead>\n",
       "    <tr style=\"text-align: right;\">\n",
       "      <th></th>\n",
       "      <th>neuron_type</th>\n",
       "      <th>neuron_id</th>\n",
       "      <th>condition</th>\n",
       "      <th>trace_id</th>\n",
       "      <th>trace</th>\n",
       "      <th>timepoint</th>\n",
       "    </tr>\n",
       "  </thead>\n",
       "  <tbody>\n",
       "    <tr>\n",
       "      <th>3561830</th>\n",
       "      <td>VIP</td>\n",
       "      <td>1086567589</td>\n",
       "      <td>4</td>\n",
       "      <td>432</td>\n",
       "      <td>-0.008837</td>\n",
       "      <td>75</td>\n",
       "    </tr>\n",
       "    <tr>\n",
       "      <th>3561831</th>\n",
       "      <td>VIP</td>\n",
       "      <td>1086567589</td>\n",
       "      <td>4</td>\n",
       "      <td>432</td>\n",
       "      <td>-0.012395</td>\n",
       "      <td>76</td>\n",
       "    </tr>\n",
       "    <tr>\n",
       "      <th>3561832</th>\n",
       "      <td>VIP</td>\n",
       "      <td>1086567589</td>\n",
       "      <td>4</td>\n",
       "      <td>432</td>\n",
       "      <td>-0.060496</td>\n",
       "      <td>77</td>\n",
       "    </tr>\n",
       "    <tr>\n",
       "      <th>3561833</th>\n",
       "      <td>VIP</td>\n",
       "      <td>1086567589</td>\n",
       "      <td>4</td>\n",
       "      <td>432</td>\n",
       "      <td>-0.028067</td>\n",
       "      <td>78</td>\n",
       "    </tr>\n",
       "    <tr>\n",
       "      <th>3561834</th>\n",
       "      <td>VIP</td>\n",
       "      <td>1086567589</td>\n",
       "      <td>4</td>\n",
       "      <td>432</td>\n",
       "      <td>-0.154335</td>\n",
       "      <td>79</td>\n",
       "    </tr>\n",
       "    <tr>\n",
       "      <th>3561835</th>\n",
       "      <td>VIP</td>\n",
       "      <td>1086567589</td>\n",
       "      <td>4</td>\n",
       "      <td>432</td>\n",
       "      <td>-0.031324</td>\n",
       "      <td>80</td>\n",
       "    </tr>\n",
       "    <tr>\n",
       "      <th>3561836</th>\n",
       "      <td>VIP</td>\n",
       "      <td>1086567589</td>\n",
       "      <td>4</td>\n",
       "      <td>432</td>\n",
       "      <td>-0.013424</td>\n",
       "      <td>81</td>\n",
       "    </tr>\n",
       "    <tr>\n",
       "      <th>3561837</th>\n",
       "      <td>VIP</td>\n",
       "      <td>1086567589</td>\n",
       "      <td>4</td>\n",
       "      <td>432</td>\n",
       "      <td>-0.162069</td>\n",
       "      <td>82</td>\n",
       "    </tr>\n",
       "    <tr>\n",
       "      <th>3561838</th>\n",
       "      <td>VIP</td>\n",
       "      <td>1086567589</td>\n",
       "      <td>4</td>\n",
       "      <td>432</td>\n",
       "      <td>-0.159199</td>\n",
       "      <td>83</td>\n",
       "    </tr>\n",
       "    <tr>\n",
       "      <th>3561839</th>\n",
       "      <td>VIP</td>\n",
       "      <td>1086567589</td>\n",
       "      <td>4</td>\n",
       "      <td>432</td>\n",
       "      <td>-0.018913</td>\n",
       "      <td>84</td>\n",
       "    </tr>\n",
       "  </tbody>\n",
       "</table>\n",
       "</div>"
      ],
      "text/plain": [
       "        neuron_type   neuron_id  condition  trace_id     trace  timepoint\n",
       "3561830         VIP  1086567589          4       432 -0.008837         75\n",
       "3561831         VIP  1086567589          4       432 -0.012395         76\n",
       "3561832         VIP  1086567589          4       432 -0.060496         77\n",
       "3561833         VIP  1086567589          4       432 -0.028067         78\n",
       "3561834         VIP  1086567589          4       432 -0.154335         79\n",
       "3561835         VIP  1086567589          4       432 -0.031324         80\n",
       "3561836         VIP  1086567589          4       432 -0.013424         81\n",
       "3561837         VIP  1086567589          4       432 -0.162069         82\n",
       "3561838         VIP  1086567589          4       432 -0.159199         83\n",
       "3561839         VIP  1086567589          4       432 -0.018913         84"
      ]
     },
     "execution_count": 24,
     "metadata": {},
     "output_type": "execute_result"
    }
   ],
   "source": [
    "# Reshaped data frame (~ 1min)\n",
    "new_columns = ['neuron_type','neuron_id','condition','trace_id','trace','timepoint']\n",
    "df_reshaped = pd.DataFrame(feature_list, columns = new_columns)\n",
    "\n",
    "df_reshaped.tail(10)"
   ]
  },
  {
   "cell_type": "markdown",
   "id": "efb5c66e-a5fe-4930-81de-4b677876d566",
   "metadata": {},
   "source": [
    "### Feature matrix X and target y"
   ]
  },
  {
   "cell_type": "code",
   "execution_count": 25,
   "id": "c2ce6ffb-5562-48a4-bac8-cd3336c42798",
   "metadata": {},
   "outputs": [
    {
     "data": {
      "text/plain": [
       "(3561840, 3)"
      ]
     },
     "metadata": {},
     "output_type": "display_data"
    },
    {
     "data": {
      "text/plain": [
       "(3561840, 2)"
      ]
     },
     "metadata": {},
     "output_type": "display_data"
    },
    {
     "data": {
      "text/html": [
       "<div>\n",
       "<style scoped>\n",
       "    .dataframe tbody tr th:only-of-type {\n",
       "        vertical-align: middle;\n",
       "    }\n",
       "\n",
       "    .dataframe tbody tr th {\n",
       "        vertical-align: top;\n",
       "    }\n",
       "\n",
       "    .dataframe thead th {\n",
       "        text-align: right;\n",
       "    }\n",
       "</style>\n",
       "<table border=\"1\" class=\"dataframe\">\n",
       "  <thead>\n",
       "    <tr style=\"text-align: right;\">\n",
       "      <th></th>\n",
       "      <th>neuron_id</th>\n",
       "      <th>trace</th>\n",
       "      <th>timepoint</th>\n",
       "    </tr>\n",
       "  </thead>\n",
       "  <tbody>\n",
       "    <tr>\n",
       "      <th>0</th>\n",
       "      <td>1086489847</td>\n",
       "      <td>-0.002927</td>\n",
       "      <td>0</td>\n",
       "    </tr>\n",
       "    <tr>\n",
       "      <th>1</th>\n",
       "      <td>1086489847</td>\n",
       "      <td>0.006589</td>\n",
       "      <td>1</td>\n",
       "    </tr>\n",
       "    <tr>\n",
       "      <th>2</th>\n",
       "      <td>1086489847</td>\n",
       "      <td>-0.019372</td>\n",
       "      <td>2</td>\n",
       "    </tr>\n",
       "    <tr>\n",
       "      <th>3</th>\n",
       "      <td>1086489847</td>\n",
       "      <td>0.002999</td>\n",
       "      <td>3</td>\n",
       "    </tr>\n",
       "    <tr>\n",
       "      <th>4</th>\n",
       "      <td>1086489847</td>\n",
       "      <td>-0.047786</td>\n",
       "      <td>4</td>\n",
       "    </tr>\n",
       "  </tbody>\n",
       "</table>\n",
       "</div>"
      ],
      "text/plain": [
       "    neuron_id     trace  timepoint\n",
       "0  1086489847 -0.002927          0\n",
       "1  1086489847  0.006589          1\n",
       "2  1086489847 -0.019372          2\n",
       "3  1086489847  0.002999          3\n",
       "4  1086489847 -0.047786          4"
      ]
     },
     "metadata": {},
     "output_type": "display_data"
    },
    {
     "data": {
      "text/html": [
       "<div>\n",
       "<style scoped>\n",
       "    .dataframe tbody tr th:only-of-type {\n",
       "        vertical-align: middle;\n",
       "    }\n",
       "\n",
       "    .dataframe tbody tr th {\n",
       "        vertical-align: top;\n",
       "    }\n",
       "\n",
       "    .dataframe thead th {\n",
       "        text-align: right;\n",
       "    }\n",
       "</style>\n",
       "<table border=\"1\" class=\"dataframe\">\n",
       "  <thead>\n",
       "    <tr style=\"text-align: right;\">\n",
       "      <th></th>\n",
       "      <th>condition</th>\n",
       "      <th>timepoint</th>\n",
       "    </tr>\n",
       "  </thead>\n",
       "  <tbody>\n",
       "    <tr>\n",
       "      <th>3538039</th>\n",
       "      <td>2</td>\n",
       "      <td>84</td>\n",
       "    </tr>\n",
       "    <tr>\n",
       "      <th>1683177</th>\n",
       "      <td>4</td>\n",
       "      <td>7</td>\n",
       "    </tr>\n",
       "    <tr>\n",
       "      <th>1402427</th>\n",
       "      <td>1</td>\n",
       "      <td>12</td>\n",
       "    </tr>\n",
       "    <tr>\n",
       "      <th>893535</th>\n",
       "      <td>2</td>\n",
       "      <td>15</td>\n",
       "    </tr>\n",
       "    <tr>\n",
       "      <th>3469069</th>\n",
       "      <td>2</td>\n",
       "      <td>49</td>\n",
       "    </tr>\n",
       "  </tbody>\n",
       "</table>\n",
       "</div>"
      ],
      "text/plain": [
       "         condition  timepoint\n",
       "3538039          2         84\n",
       "1683177          4          7\n",
       "1402427          1         12\n",
       "893535           2         15\n",
       "3469069          2         49"
      ]
     },
     "metadata": {},
     "output_type": "display_data"
    }
   ],
   "source": [
    "# Feature matrix X and target y\n",
    "X = df_reshaped.loc[:,['neuron_id','trace','timepoint']]  # df_reshaped.drop(columns = ['condition'])\n",
    "y = df_reshaped.loc[:,['condition','timepoint']]\n",
    "\n",
    "display(X.shape, y.shape, X.head(), y.sample(5))"
   ]
  },
  {
   "cell_type": "markdown",
   "id": "11107171-f2e6-4598-ac0c-c84d65898137",
   "metadata": {},
   "source": [
    "# Logistic Regression Models"
   ]
  },
  {
   "cell_type": "markdown",
   "id": "4640c0c0-e527-4ad1-ab64-6056b56046ac",
   "metadata": {},
   "source": [
    "## Instantiate Pipeline"
   ]
  },
  {
   "cell_type": "code",
   "execution_count": 51,
   "id": "fb81472a-55c1-4c7a-bc59-07a108cbb82d",
   "metadata": {},
   "outputs": [],
   "source": [
    "### Instantiate Logistic Regression Model ###\n",
    "from sklearn.pipeline import Pipeline\n",
    "\n",
    "# Create a pipeline for Logistic Regression \n",
    "Cs = [0.000001, 0.00001, 0.0001, 0.001, 0.01, 0.1, 1, 10, 100]\n",
    "pipe_logistic = Pipeline([\n",
    "    ('std', StandardScaler()), # 'pca', PCA(n_components = 0.9) # just if needed to reduce noise or improve the prediction(s)\n",
    "    ('logReg',  LogisticRegressionCV(random_state = 0, cv = 10, penalty='l2', Cs=Cs, max_iter=1000, n_jobs=-1) ) # 10 fold cross validation\n",
    "   ])"
   ]
  },
  {
   "cell_type": "markdown",
   "id": "de2add86-249d-4088-ab4a-0dbe4d6c5eed",
   "metadata": {},
   "source": [
    "## Regression models with one train-test split"
   ]
  },
  {
   "cell_type": "code",
   "execution_count": null,
   "id": "4476847a-edc2-48c7-a836-8fc036c89ee3",
   "metadata": {},
   "outputs": [],
   "source": [
    "### Split the data into training and test sets ###\n",
    "X_train, X_test,y_train, y_test = train_test_split(\n",
    "    X, y,\n",
    "    test_size = 0.1, \n",
    "    random_state = 0\n",
    ")\n",
    "\n",
    "# Testing on 10% of the data\n",
    "print('Training: \\nX:',X_train.shape, '\\ny:', y_train.shape)# '\\nTesting:', df_test.shape)\n",
    "print('Testing: \\nX:',X_test.shape, '\\ny:', y_test.shape)# '\\nTesting:', df_test.shape)\n",
    "\n",
    "### Train one model at each time point and save their prediction accuracy ###\n",
    "from sklearn.metrics import accuracy_score, confusion_matrix\n",
    "# Number of time points\n",
    "T = X_train.shape[0]\n",
    "# Instantiate arrays containing \n",
    "# ...the accuracy score and confidence matrix for each time point\n",
    "acc = []\n",
    "conf_mat = []\n",
    "\n",
    "timepoints = X.loc[:,'timepoint'].unique()\n",
    "for t in timepoints:\n",
    "    print(t)\n",
    "\n",
    "    # Get feature (trace) and target (condition)\n",
    "    # ...for training\n",
    "    tmp_X_train = X_train[X_train.loc[:,'timepoint'] == t].loc[:,['neuron_id','trace']] # all traces at timepoint t\n",
    "    tmp_y_train = y_train[y_train.loc[:,'timepoint'] == t].loc[:,'condition'] # 'novelty' conditions [1,2,3,4] \n",
    "\n",
    "    # ... for testing\n",
    "    tmp_X_test = X_test[X_test.loc[:,'timepoint'] == t].loc[:,['neuron_id','trace']]\n",
    "    tmp_y_test = y_test[y_test.loc[:,'timepoint'] == t].loc[:,'condition'] \n",
    "\n",
    "    # Fit \n",
    "    pipe_logistic.fit(tmp_X_train, tmp_y_train)\n",
    "\n",
    "    # Predict\n",
    "    tmp_y_pred = pipe_logistic.predict(tmp_X_test)\n",
    "    \n",
    "    # Store accuracy of this prediction\n",
    "    acc.append(accuracy_score(tmp_y_test, tmp_y_pred)) # = sum(y_pred[t]==y_test)/len(y_test)\n",
    "    conf_mat.append(confusion_matrix(tmp_y_test, tmp_y_pred))\n",
    "   "
   ]
  },
  {
   "cell_type": "code",
   "execution_count": 79,
   "id": "fc0a39e0-fe8e-4733-bd5d-5980db09cfda",
   "metadata": {},
   "outputs": [
    {
     "data": {
      "text/plain": [
       "0.353415559772296"
      ]
     },
     "metadata": {},
     "output_type": "display_data"
    }
   ],
   "source": [
    "# In this case, the model with the simple split shows the higher maximal accuracy\n",
    "# Maximum\n",
    "display(max(acc))\n",
    "# Chance level\n",
    "chance = np.max(min_trial_counts.trial_count.values/sum(min_trial_counts.trial_count) )"
   ]
  },
  {
   "cell_type": "code",
   "execution_count": 77,
   "id": "7f48c3a6-10ce-4631-ba3a-ce291ce703b5",
   "metadata": {},
   "outputs": [
    {
     "data": {
      "image/png": "[encoded data removed]",
      "text/plain": [
       "<Figure size 640x480 with 1 Axes>"
      ]
     },
     "metadata": {},
     "output_type": "display_data"
    }
   ],
   "source": [
    "# Accuracy plot\n",
    "plt.subplot()\n",
    "plt.plot(range(len(acc)), acc)\n",
    "plt.xlabel('Time after stimulus onset')\n",
    "plt.ylabel('Accuracy')\n",
    "plt.hlines(y=chance, xmin=0, xmax=T, label='Chance', linestyles='dashed', colors='black')\n",
    "plt.legend()\n",
    "plt.ylim((0,1))\n",
    "plt.xlim((0,85))\n",
    "plt.title(\"Decoding accuracy over time\")\n",
    "plt.show()"
   ]
  },
  {
   "cell_type": "markdown",
   "id": "b67725ae-e0a9-47be-a026-ca3a912882bd",
   "metadata": {},
   "source": [
    "## Regression models with multiple (ten) train-test splits\n",
    "*(StratifiedKFold - more useful for unbalanced conditions, cf. simple split)*"
   ]
  },
  {
   "cell_type": "code",
   "execution_count": 80,
   "id": "617c75e4-2d21-40e4-90d1-56ca35b073fe",
   "metadata": {},
   "outputs": [
    {
     "name": "stdout",
     "output_type": "stream",
     "text": [
      "Fold 1 ...\n",
      "Fold 2 ...\n",
      "Fold 3 ...\n",
      "Fold 4 ...\n",
      "Fold 5 ...\n",
      "Fold 6 ...\n",
      "Fold 7 ...\n",
      "Fold 8 ...\n",
      "Fold 9 ...\n",
      "Fold 10 ...\n",
      "Done\n"
     ]
    }
   ],
   "source": [
    "### Split the data into training and test sets ###\n",
    "from sklearn.model_selection import StratifiedKFold\n",
    "from sklearn.metrics import accuracy_score, confusion_matrix\n",
    "\n",
    "\n",
    "n_folds = 10 # number of folds for k-fold CV\n",
    "folds   = StratifiedKFold(n_splits = n_folds, shuffle = True, random_state = 123) # initialize folds generator\n",
    "\n",
    "# Instantiate arrays containing \n",
    "# ...the accuracy score and confidence matrix for each time point\n",
    "acc_2      = []\n",
    "conf_mat_2 = []\n",
    "\n",
    "# Timepoints (0 to 84)\n",
    "timepoints = X.loc[:,'timepoint'].unique()\n",
    "count = 0\n",
    "for train_index, test_index in folds.split(X, y.loc[:,'condition']): # loop over k folds using the training and test indices from StratifiedKFold\n",
    "    count = count + 1\n",
    "    print('Fold', count,'...')\n",
    "    \n",
    "    # Split into training and test set\n",
    "    X_train, X_test = X.iloc[train_index], X.iloc[test_index]\n",
    "    y_train, y_test = y.iloc[train_index], y.iloc[test_index]\n",
    "\n",
    "    for t in timepoints:\n",
    "\n",
    "        # Get feature (trace) and target (condition)\n",
    "        # ...for training\n",
    "        tmp_X_train = X_train[X_train.loc[:,'timepoint'] == t].loc[:,['neuron_id','trace']] # all traces at timepoint t\n",
    "        tmp_y_train = y_train[y_train.loc[:,'timepoint'] == t].loc[:,'condition'] # 'novelty' conditions [1,2,3,4] \n",
    "\n",
    "        # ... for testing\n",
    "        tmp_X_test = X_test[X_test.loc[:,'timepoint'] == t].loc[:,['neuron_id','trace']]\n",
    "        tmp_y_test = y_test[y_test.loc[:,'timepoint'] == t].loc[:,'condition'] \n",
    "\n",
    "        # Fit \n",
    "        pipe_logistic.fit(tmp_X_train, tmp_y_train)\n",
    "\n",
    "        # Predict\n",
    "        tmp_y_pred = pipe_logistic.predict(tmp_X_test)\n",
    "    \n",
    "        # Store accuracy of this prediction\n",
    "        # print(accuracy_score(tmp_y_test, tmp_y_pred))\n",
    "        acc_2.append(accuracy_score(tmp_y_test, tmp_y_pred)) # = sum(y_pred[t]==y_test)/len(y_test)\n",
    "        conf_mat_2.append(confusion_matrix(tmp_y_test, tmp_y_pred))\n",
    "\n",
    "print('Done')"
   ]
  },
  {
   "cell_type": "code",
   "execution_count": 116,
   "id": "dbbbfc24-7dfe-476b-b53e-a6ff353ae115",
   "metadata": {},
   "outputs": [
    {
     "data": {
      "text/plain": [
       "0.3414461247637051"
      ]
     },
     "metadata": {},
     "output_type": "display_data"
    },
    {
     "data": {
      "text/plain": [
       "0.323651024057333"
      ]
     },
     "execution_count": 116,
     "metadata": {},
     "output_type": "execute_result"
    }
   ],
   "source": [
    "#### TO DO: calculate correct accuracy ####\n",
    "# Maximum\n",
    "display(max(acc_2))\n",
    "\n",
    "acc_2_array    =  np.asarray(acc_2)\n",
    "reshaped_array = acc_2_array.reshape(85,10)\n",
    "max(reshaped_array.mean(axis = 1))\n",
    "\n",
    "# Chance level\n",
    "#chance = np.max(min_trial_counts.trial_count.values/sum(min_trial_counts.trial_count))"
   ]
  },
  {
   "cell_type": "code",
   "execution_count": 82,
   "id": "efa5f1ef-6d44-46d3-8bc9-66936deecf69",
   "metadata": {},
   "outputs": [
    {
     "data": {
      "image/png": "[encoded data removed]",
      "text/plain": [
       "<Figure size 640x480 with 1 Axes>"
      ]
     },
     "metadata": {},
     "output_type": "display_data"
    }
   ],
   "source": [
    "# Accuracy plot\n",
    "plt.subplot()\n",
    "plt.plot(range(len(acc_2)), acc_2)\n",
    "plt.xlabel('Time after stimulus onset')\n",
    "plt.ylabel('Accuracy')\n",
    "plt.hlines(y=chance, xmin=0, xmax=T, label='Chance', linestyles='dashed', colors='black')\n",
    "plt.legend()\n",
    "plt.ylim((0,1))\n",
    "plt.xlim((0,len(acc_2)))\n",
    "plt.title(\"Decoding accuracy over time\")\n",
    "plt.show()"
   ]
  }
 ],
 "metadata": {
  "kernelspec": {
   "display_name": "Python 3 (ipykernel)",
   "language": "python",
   "name": "python3"
  },
  "language_info": {
   "codemirror_mode": {
    "name": "ipython",
    "version": 3
   },
   "file_extension": ".py",
   "mimetype": "text/x-python",
   "name": "python",
   "nbconvert_exporter": "python",
   "pygments_lexer": "ipython3",
   "version": "3.8.19"
  }
 },
 "nbformat": 4,
 "nbformat_minor": 5
}
